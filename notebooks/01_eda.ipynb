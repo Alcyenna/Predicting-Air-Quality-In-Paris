{
  "cells": [
    {
      "cell_type": "code",
      "execution_count": null,
      "metadata": {},
      "outputs": [],
      "source": [
        "import pandas as pd\n",
        "import seaborn as sns\n",
        "import matplotlib.pyplot as plt\n",
        "from pathlib import Path\n",
        "\n",
        "DATA_DIR = Path(__file__).resolve().parents[1] / \"data\"\n",
        "train = pd.read_csv(DATA_DIR / \"train.csv\", parse_dates=[\"id\"])  # id is timestamp\n",
        "\n",
        "print(train.head())\n",
        "print(train.describe(include=\"all\"))\n",
        "\n"
      ]
    },
    {
      "cell_type": "code",
      "execution_count": null,
      "metadata": {},
      "outputs": [],
      "source": [
        "# Basic time series structure\n",
        "train = train.sort_values(\"id\").set_index(\"id\")\n",
        "fig, axes = plt.subplots(5, 1, figsize=(14, 14), sharex=True)\n",
        "cols = [\"valeur_NO2\", \"valeur_CO\", \"valeur_O3\", \"valeur_PM10\", \"valeur_PM25\"]\n",
        "for ax, c in zip(axes, cols):\n",
        "    train[c].plot(ax=ax)\n",
        "    ax.set_title(c)\n",
        "plt.tight_layout()\n",
        "plt.show()\n",
        "\n"
      ]
    },
    {
      "cell_type": "code",
      "execution_count": null,
      "metadata": {},
      "outputs": [],
      "source": [
        "# Hour-of-day and day-of-week patterns\n",
        "train = train.copy()\n",
        "train[\"hour\"] = train.index.hour\n",
        "train[\"dow\"] = train.index.dayofweek\n",
        "fig, axes = plt.subplots(2, 5, figsize=(18, 8))\n",
        "for j, c in enumerate(cols):\n",
        "    sns.lineplot(data=train, x=\"hour\", y=c, ax=axes[0, j])\n",
        "    axes[0, j].set_title(f\"Hour pattern - {c}\")\n",
        "    sns.lineplot(data=train, x=\"dow\", y=c, ax=axes[1, j])\n",
        "    axes[1, j].set_title(f\"DOW pattern - {c}\")\n",
        "plt.tight_layout()\n",
        "plt.show()\n",
        "\n"
      ]
    }
  ],
  "metadata": {
    "language_info": {
      "name": "python"
    }
  },
  "nbformat": 4,
  "nbformat_minor": 2
}
